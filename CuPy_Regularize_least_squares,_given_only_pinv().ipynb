{
  "nbformat": 4,
  "nbformat_minor": 0,
  "metadata": {
    "colab": {
      "name": "CuPy Regularize least squares, given only pinv() ",
      "provenance": [],
      "collapsed_sections": [],
      "authorship_tag": "ABX9TyPwPu9OA85Zxwb6E49VJ7OO",
      "include_colab_link": true
    },
    "kernelspec": {
      "name": "python3",
      "display_name": "Python 3"
    },
    "accelerator": "GPU"
  },
  "cells": [
    {
      "cell_type": "markdown",
      "metadata": {
        "id": "view-in-github",
        "colab_type": "text"
      },
      "source": [
        "<a href=\"https://colab.research.google.com/github/alik604/Cuda/blob/master/CuPy_Regularize_least_squares%2C_given_only_pinv().ipynb\" target=\"_parent\"><img src=\"https://colab.research.google.com/assets/colab-badge.svg\" alt=\"Open In Colab\"/></a>"
      ]
    },
    {
      "cell_type": "code",
      "metadata": {
        "id": "eaqWLeKKBUC9",
        "colab_type": "code",
        "colab": {}
      },
      "source": [
        "# Importing the libraries\n",
        "# !pip install cupy-cuda102\n",
        "\n",
        "import math\n",
        "import pandas as pd\n",
        "import numpy as np\n",
        "import cupy as cp\n",
        "import matplotlib.pyplot as plt\n",
        "%matplotlib inline\n",
        "plt.style.use('fivethirtyeight')\n",
        "\n",
        "from IPython.core.interactiveshell import InteractiveShell\n",
        "InteractiveShell.ast_node_interactivity = \"all\"\n"
      ],
      "execution_count": 0,
      "outputs": []
    },
    {
      "cell_type": "code",
      "metadata": {
        "id": "xcjxljewBjBU",
        "colab_type": "code",
        "colab": {
          "base_uri": "https://localhost:8080/",
          "height": 153
        },
        "outputId": "4d989bd9-ded2-42e4-a2d6-7408829444eb"
      },
      "source": [
        "N = 50\n",
        "x = cp.concatenate([cp.arange(N),cp.arange(N)]).reshape(2,-1)\n",
        "y = cp.arange(N)\n",
        "A = x\n",
        "A"
      ],
      "execution_count": 2,
      "outputs": [
        {
          "output_type": "execute_result",
          "data": {
            "text/plain": [
              "array([[ 0,  1,  2,  3,  4,  5,  6,  7,  8,  9, 10, 11, 12, 13, 14, 15,\n",
              "        16, 17, 18, 19, 20, 21, 22, 23, 24, 25, 26, 27, 28, 29, 30, 31,\n",
              "        32, 33, 34, 35, 36, 37, 38, 39, 40, 41, 42, 43, 44, 45, 46, 47,\n",
              "        48, 49],\n",
              "       [ 0,  1,  2,  3,  4,  5,  6,  7,  8,  9, 10, 11, 12, 13, 14, 15,\n",
              "        16, 17, 18, 19, 20, 21, 22, 23, 24, 25, 26, 27, 28, 29, 30, 31,\n",
              "        32, 33, 34, 35, 36, 37, 38, 39, 40, 41, 42, 43, 44, 45, 46, 47,\n",
              "        48, 49]])"
            ]
          },
          "metadata": {
            "tags": []
          },
          "execution_count": 2
        }
      ]
    },
    {
      "cell_type": "code",
      "metadata": {
        "id": "7HxF1BcLBjbY",
        "colab_type": "code",
        "colab": {
          "base_uri": "https://localhost:8080/",
          "height": 34
        },
        "outputId": "97d23a66-9d5a-48f3-a687-cda9b2690225"
      },
      "source": [
        "U, D, V = cp.linalg.svd(A) # https://hadrienj.github.io/posts/Deep-Learning-Book-Series-2.9-The-Moore-Penrose-Pseudoinverse/\n",
        "A.shape # (2,100)\n",
        "V.shape # (100,100)\n",
        "D.shape # (2,1)\n",
        "U.shape # (2,2) ^ t \n",
        "        # A^+ = V  D^+  U^T"
      ],
      "execution_count": 3,
      "outputs": [
        {
          "output_type": "execute_result",
          "data": {
            "text/plain": [
              "(2, 50)"
            ]
          },
          "metadata": {
            "tags": []
          },
          "execution_count": 3
        },
        {
          "output_type": "execute_result",
          "data": {
            "text/plain": [
              "(50, 50)"
            ]
          },
          "metadata": {
            "tags": []
          },
          "execution_count": 3
        },
        {
          "output_type": "execute_result",
          "data": {
            "text/plain": [
              "(2,)"
            ]
          },
          "metadata": {
            "tags": []
          },
          "execution_count": 3
        },
        {
          "output_type": "execute_result",
          "data": {
            "text/plain": [
              "(2, 2)"
            ]
          },
          "metadata": {
            "tags": []
          },
          "execution_count": 3
        }
      ]
    },
    {
      "cell_type": "code",
      "metadata": {
        "id": "paZMRSArBjeU",
        "colab_type": "code",
        "colab": {
          "base_uri": "https://localhost:8080/",
          "height": 1000
        },
        "outputId": "a237a56d-0d55-4f60-d082-e56c2202d6b9"
      },
      "source": [
        "D_plus = cp.zeros((A.shape[0], A.shape[1])).T # (100,2)\n",
        "D_plus[:D.shape[0], :D.shape[0]] = cp.linalg.inv(cp.diag(D))\n",
        "\n",
        "print('\\n\\nD plus\\n',D_plus)\n",
        "\n",
        "print('D:\\n',D)\n",
        "print('\\ndiag(D):\\n',cp.diag(D))\n",
        "print('\\ninv(diag(D)))\\n',cp.linalg.inv(cp.diag(D)))\n",
        "\n",
        "A_plus = V.T.dot(D_plus).dot(U.T) # equal in theory :'( or i cant follow a blog which shows it working. yes i tried the included the example... https://hadrienj.github.io/posts/Deep-Learning-Book-Series-2.9-The-Moore-Penrose-Pseudoinverse/\n",
        "A_plus = cp.linalg.pinv(A)\n",
        "print('\\n\\n A plus\\n',A_plus)\n",
        "# cp.linalg.pinv(A) # [[0, 1, 2, 3, 4], [0, 1, 2, 3, 4]]\n",
        "# np.linalg.pinv(A.tolist()) # array([[0, 1, 2, 3, 4],[0, 1, 2, 3, 4]])\n",
        "## non equal "
      ],
      "execution_count": 4,
      "outputs": [
        {
          "output_type": "stream",
          "text": [
            "\n",
            "\n",
            "D plus\n",
            " [[3.51689974e-03 0.00000000e+00]\n",
            " [0.00000000e+00 1.92418334e+13]\n",
            " [0.00000000e+00 0.00000000e+00]\n",
            " [0.00000000e+00 0.00000000e+00]\n",
            " [0.00000000e+00 0.00000000e+00]\n",
            " [0.00000000e+00 0.00000000e+00]\n",
            " [0.00000000e+00 0.00000000e+00]\n",
            " [0.00000000e+00 0.00000000e+00]\n",
            " [0.00000000e+00 0.00000000e+00]\n",
            " [0.00000000e+00 0.00000000e+00]\n",
            " [0.00000000e+00 0.00000000e+00]\n",
            " [0.00000000e+00 0.00000000e+00]\n",
            " [0.00000000e+00 0.00000000e+00]\n",
            " [0.00000000e+00 0.00000000e+00]\n",
            " [0.00000000e+00 0.00000000e+00]\n",
            " [0.00000000e+00 0.00000000e+00]\n",
            " [0.00000000e+00 0.00000000e+00]\n",
            " [0.00000000e+00 0.00000000e+00]\n",
            " [0.00000000e+00 0.00000000e+00]\n",
            " [0.00000000e+00 0.00000000e+00]\n",
            " [0.00000000e+00 0.00000000e+00]\n",
            " [0.00000000e+00 0.00000000e+00]\n",
            " [0.00000000e+00 0.00000000e+00]\n",
            " [0.00000000e+00 0.00000000e+00]\n",
            " [0.00000000e+00 0.00000000e+00]\n",
            " [0.00000000e+00 0.00000000e+00]\n",
            " [0.00000000e+00 0.00000000e+00]\n",
            " [0.00000000e+00 0.00000000e+00]\n",
            " [0.00000000e+00 0.00000000e+00]\n",
            " [0.00000000e+00 0.00000000e+00]\n",
            " [0.00000000e+00 0.00000000e+00]\n",
            " [0.00000000e+00 0.00000000e+00]\n",
            " [0.00000000e+00 0.00000000e+00]\n",
            " [0.00000000e+00 0.00000000e+00]\n",
            " [0.00000000e+00 0.00000000e+00]\n",
            " [0.00000000e+00 0.00000000e+00]\n",
            " [0.00000000e+00 0.00000000e+00]\n",
            " [0.00000000e+00 0.00000000e+00]\n",
            " [0.00000000e+00 0.00000000e+00]\n",
            " [0.00000000e+00 0.00000000e+00]\n",
            " [0.00000000e+00 0.00000000e+00]\n",
            " [0.00000000e+00 0.00000000e+00]\n",
            " [0.00000000e+00 0.00000000e+00]\n",
            " [0.00000000e+00 0.00000000e+00]\n",
            " [0.00000000e+00 0.00000000e+00]\n",
            " [0.00000000e+00 0.00000000e+00]\n",
            " [0.00000000e+00 0.00000000e+00]\n",
            " [0.00000000e+00 0.00000000e+00]\n",
            " [0.00000000e+00 0.00000000e+00]\n",
            " [0.00000000e+00 0.00000000e+00]]\n",
            "D:\n",
            " [2.84341344e+02 5.19700997e-14]\n",
            "\n",
            "diag(D):\n",
            " [[2.84341344e+02 0.00000000e+00]\n",
            " [0.00000000e+00 5.19700997e-14]]\n",
            "\n",
            "inv(diag(D)))\n",
            " [[3.51689974e-03 0.00000000e+00]\n",
            " [0.00000000e+00 1.92418334e+13]]\n",
            "\n",
            "\n",
            " A plus\n",
            " [[-4.51383718e-19 -4.51383718e-19]\n",
            " [ 1.23685838e-05  1.23685838e-05]\n",
            " [ 2.47371676e-05  2.47371676e-05]\n",
            " [ 3.71057514e-05  3.71057514e-05]\n",
            " [ 4.94743352e-05  4.94743352e-05]\n",
            " [ 6.18429190e-05  6.18429190e-05]\n",
            " [ 7.42115028e-05  7.42115028e-05]\n",
            " [ 8.65800866e-05  8.65800866e-05]\n",
            " [ 9.89486704e-05  9.89486704e-05]\n",
            " [ 1.11317254e-04  1.11317254e-04]\n",
            " [ 1.23685838e-04  1.23685838e-04]\n",
            " [ 1.36054422e-04  1.36054422e-04]\n",
            " [ 1.48423006e-04  1.48423006e-04]\n",
            " [ 1.60791589e-04  1.60791589e-04]\n",
            " [ 1.73160173e-04  1.73160173e-04]\n",
            " [ 1.85528757e-04  1.85528757e-04]\n",
            " [ 1.97897341e-04  1.97897341e-04]\n",
            " [ 2.10265925e-04  2.10265925e-04]\n",
            " [ 2.22634508e-04  2.22634508e-04]\n",
            " [ 2.35003092e-04  2.35003092e-04]\n",
            " [ 2.47371676e-04  2.47371676e-04]\n",
            " [ 2.59740260e-04  2.59740260e-04]\n",
            " [ 2.72108844e-04  2.72108844e-04]\n",
            " [ 2.84477427e-04  2.84477427e-04]\n",
            " [ 2.96846011e-04  2.96846011e-04]\n",
            " [ 3.09214595e-04  3.09214595e-04]\n",
            " [ 3.21583179e-04  3.21583179e-04]\n",
            " [ 3.33951763e-04  3.33951763e-04]\n",
            " [ 3.46320346e-04  3.46320346e-04]\n",
            " [ 3.58688930e-04  3.58688930e-04]\n",
            " [ 3.71057514e-04  3.71057514e-04]\n",
            " [ 3.83426098e-04  3.83426098e-04]\n",
            " [ 3.95794682e-04  3.95794682e-04]\n",
            " [ 4.08163265e-04  4.08163265e-04]\n",
            " [ 4.20531849e-04  4.20531849e-04]\n",
            " [ 4.32900433e-04  4.32900433e-04]\n",
            " [ 4.45269017e-04  4.45269017e-04]\n",
            " [ 4.57637600e-04  4.57637600e-04]\n",
            " [ 4.70006184e-04  4.70006184e-04]\n",
            " [ 4.82374768e-04  4.82374768e-04]\n",
            " [ 4.94743352e-04  4.94743352e-04]\n",
            " [ 5.07111936e-04  5.07111936e-04]\n",
            " [ 5.19480519e-04  5.19480519e-04]\n",
            " [ 5.31849103e-04  5.31849103e-04]\n",
            " [ 5.44217687e-04  5.44217687e-04]\n",
            " [ 5.56586271e-04  5.56586271e-04]\n",
            " [ 5.68954855e-04  5.68954855e-04]\n",
            " [ 5.81323438e-04  5.81323438e-04]\n",
            " [ 5.93692022e-04  5.93692022e-04]\n",
            " [ 6.06060606e-04  6.06060606e-04]]\n"
          ],
          "name": "stdout"
        }
      ]
    },
    {
      "cell_type": "code",
      "metadata": {
        "id": "lGbPZ867BjkF",
        "colab_type": "code",
        "colab": {
          "base_uri": "https://localhost:8080/",
          "height": 867
        },
        "outputId": "1379c3d7-ac8c-484d-8e65-6b7f5b831b31"
      },
      "source": [
        "inv = x.transpose().dot(x)\n",
        "inv = cp.linalg.pinv(inv)\n",
        "B = inv.dot(x.transpose())\n",
        "B"
      ],
      "execution_count": 5,
      "outputs": [
        {
          "output_type": "execute_result",
          "data": {
            "text/plain": [
              "array([[0.00000000e+00, 0.00000000e+00],\n",
              "       [1.23685838e-05, 1.23685838e-05],\n",
              "       [2.47371676e-05, 2.47371676e-05],\n",
              "       [3.71057514e-05, 3.71057514e-05],\n",
              "       [4.94743352e-05, 4.94743352e-05],\n",
              "       [6.18429190e-05, 6.18429190e-05],\n",
              "       [7.42115028e-05, 7.42115028e-05],\n",
              "       [8.65800866e-05, 8.65800866e-05],\n",
              "       [9.89486704e-05, 9.89486704e-05],\n",
              "       [1.11317254e-04, 1.11317254e-04],\n",
              "       [1.23685838e-04, 1.23685838e-04],\n",
              "       [1.36054422e-04, 1.36054422e-04],\n",
              "       [1.48423006e-04, 1.48423006e-04],\n",
              "       [1.60791589e-04, 1.60791589e-04],\n",
              "       [1.73160173e-04, 1.73160173e-04],\n",
              "       [1.85528757e-04, 1.85528757e-04],\n",
              "       [1.97897341e-04, 1.97897341e-04],\n",
              "       [2.10265925e-04, 2.10265925e-04],\n",
              "       [2.22634508e-04, 2.22634508e-04],\n",
              "       [2.35003092e-04, 2.35003092e-04],\n",
              "       [2.47371676e-04, 2.47371676e-04],\n",
              "       [2.59740260e-04, 2.59740260e-04],\n",
              "       [2.72108844e-04, 2.72108844e-04],\n",
              "       [2.84477427e-04, 2.84477427e-04],\n",
              "       [2.96846011e-04, 2.96846011e-04],\n",
              "       [3.09214595e-04, 3.09214595e-04],\n",
              "       [3.21583179e-04, 3.21583179e-04],\n",
              "       [3.33951763e-04, 3.33951763e-04],\n",
              "       [3.46320346e-04, 3.46320346e-04],\n",
              "       [3.58688930e-04, 3.58688930e-04],\n",
              "       [3.71057514e-04, 3.71057514e-04],\n",
              "       [3.83426098e-04, 3.83426098e-04],\n",
              "       [3.95794682e-04, 3.95794682e-04],\n",
              "       [4.08163265e-04, 4.08163265e-04],\n",
              "       [4.20531849e-04, 4.20531849e-04],\n",
              "       [4.32900433e-04, 4.32900433e-04],\n",
              "       [4.45269017e-04, 4.45269017e-04],\n",
              "       [4.57637600e-04, 4.57637600e-04],\n",
              "       [4.70006184e-04, 4.70006184e-04],\n",
              "       [4.82374768e-04, 4.82374768e-04],\n",
              "       [4.94743352e-04, 4.94743352e-04],\n",
              "       [5.07111936e-04, 5.07111936e-04],\n",
              "       [5.19480519e-04, 5.19480519e-04],\n",
              "       [5.31849103e-04, 5.31849103e-04],\n",
              "       [5.44217687e-04, 5.44217687e-04],\n",
              "       [5.56586271e-04, 5.56586271e-04],\n",
              "       [5.68954855e-04, 5.68954855e-04],\n",
              "       [5.81323438e-04, 5.81323438e-04],\n",
              "       [5.93692022e-04, 5.93692022e-04],\n",
              "       [6.06060606e-04, 6.06060606e-04]])"
            ]
          },
          "metadata": {
            "tags": []
          },
          "execution_count": 5
        }
      ]
    },
    {
      "cell_type": "code",
      "metadata": {
        "id": "I6_SLpDTIeL0",
        "colab_type": "code",
        "colab": {
          "base_uri": "https://localhost:8080/",
          "height": 34
        },
        "outputId": "3434b01b-88e4-44b2-bd32-3aee5797ac9f"
      },
      "source": [
        "B.transpose().dot(y)"
      ],
      "execution_count": 185,
      "outputs": [
        {
          "output_type": "execute_result",
          "data": {
            "text/plain": [
              "array([0.5, 0.5])"
            ]
          },
          "metadata": {
            "tags": []
          },
          "execution_count": 185
        }
      ]
    },
    {
      "cell_type": "code",
      "metadata": {
        "id": "GJgFVcIoJlGX",
        "colab_type": "code",
        "colab": {}
      },
      "source": [
        "# N = 6\n",
        "# x = cp.arange(N)[1:]\n",
        "# x = np.concatenate([x,x]).reshape(2,-1)\n",
        "# y = np.arange(N)[1:]\n",
        "# print('matrix:\\n',x)\n",
        "\n",
        "# #https://en.wikipedia.org/wiki/Linear_least_squares#Main_formulations\n",
        "# inv = x.transpose().dot(x)\n",
        "# inv = np.linalg.pinv(inv)\n",
        "# B = inv.dot(x.transpose())\n",
        "# print('weigths: ',B.transpose().dot(y))"
      ],
      "execution_count": 0,
      "outputs": []
    },
    {
      "cell_type": "code",
      "metadata": {
        "id": "N-y6vuHVJlJm",
        "colab_type": "code",
        "colab": {
          "base_uri": "https://localhost:8080/",
          "height": 156
        },
        "outputId": "b2429ef2-610b-42d3-e8f1-cdee873b1f98"
      },
      "source": [
        "np.linalg.lstsq(np.array(x.tolist()).transpose(),np.array(y.tolist()))"
      ],
      "execution_count": 9,
      "outputs": [
        {
          "output_type": "stream",
          "text": [
            "/usr/local/lib/python3.6/dist-packages/ipykernel_launcher.py:1: FutureWarning: `rcond` parameter will change to the default of machine precision times ``max(M, N)`` where M and N are the input matrix dimensions.\n",
            "To use the future default and silence this warning we advise to pass `rcond=None`, to keep using the old, explicitly pass `rcond=-1`.\n",
            "  \"\"\"Entry point for launching an IPython kernel.\n"
          ],
          "name": "stderr"
        },
        {
          "output_type": "execute_result",
          "data": {
            "text/plain": [
              "(array([0.5, 0.5]),\n",
              " array([], dtype=float64),\n",
              " 1,\n",
              " array([2.84341344e+02, 3.12428059e-14]))"
            ]
          },
          "metadata": {
            "tags": []
          },
          "execution_count": 9
        }
      ]
    },
    {
      "cell_type": "markdown",
      "metadata": {
        "id": "sP7eaExKJlM0",
        "colab_type": "text"
      },
      "source": [
        "## Regularize \n",
        "pg 8: http://web.stanford.edu/class/archive/ee/ee263/ee263.1042/min-norm"
      ]
    },
    {
      "cell_type": "code",
      "metadata": {
        "id": "D_cL87WzJlPQ",
        "colab_type": "code",
        "colab": {
          "base_uri": "https://localhost:8080/",
          "height": 85
        },
        "outputId": "15992e47-8361-498c-ef3d-23410da9c3bb"
      },
      "source": [
        "# np.diag(np.ones(N)) # IdentityMatrix I_N\n",
        "\n",
        "# choose MU\n",
        "MU = 0.3\n",
        "\n",
        "# this is probably a terrible choice, my sources neglects guidance on MU; see last page\n",
        "\n",
        "\n",
        "N = 10\n",
        "x = np.arange(N)\n",
        "x = np.concatenate([x,x]).reshape(2,-1)\n",
        "y = np.arange(N)\n",
        "print('matrix:\\n',x)\n",
        "\n",
        "#https://en.wikipedia.org/wiki/Linear_least_squares#Main_formulations\n",
        "xx = x.transpose().dot(x)\n",
        "reg = MU * np.diag(np.ones(N))\n",
        "inv = np.linalg.pinv(xx + reg) # x = (AT*A + µI)^−1 A^T * y\n",
        "B = inv.dot(x.transpose())\n",
        "print('weigths: ',B.transpose().dot(y))"
      ],
      "execution_count": 11,
      "outputs": [
        {
          "output_type": "stream",
          "text": [
            "matrix:\n",
            " [[0 1 2 3 4 5 6 7 8 9]\n",
            " [0 1 2 3 4 5 6 7 8 9]]\n",
            "weigths:  [0.49973698 0.49973698]\n"
          ],
          "name": "stdout"
        }
      ]
    },
    {
      "cell_type": "code",
      "metadata": {
        "id": "kJIoPiQpLKCf",
        "colab_type": "code",
        "colab": {}
      },
      "source": [
        ""
      ],
      "execution_count": 0,
      "outputs": []
    },
    {
      "cell_type": "code",
      "metadata": {
        "id": "hCVpuTEpN13K",
        "colab_type": "code",
        "colab": {}
      },
      "source": [
        ""
      ],
      "execution_count": 0,
      "outputs": []
    },
    {
      "cell_type": "code",
      "metadata": {
        "id": "3G0RFhhwZrsk",
        "colab_type": "code",
        "colab": {}
      },
      "source": [
        ""
      ],
      "execution_count": 0,
      "outputs": []
    },
    {
      "cell_type": "code",
      "metadata": {
        "id": "3CN12b3EafSi",
        "colab_type": "code",
        "colab": {}
      },
      "source": [
        ""
      ],
      "execution_count": 0,
      "outputs": []
    }
  ]
}